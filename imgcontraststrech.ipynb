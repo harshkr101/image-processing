{
 "cells": [
  {
   "cell_type": "code",
   "execution_count": 2,
   "metadata": {},
   "outputs": [],
   "source": [
    "import cv2\n",
    "import numpy as np\n",
    "image=cv2.imread('image1.jpg')\n",
    "new_image = np.zeros(image.shape, image.dtype)\n",
    "\n",
    "## [basic-linear-transform-parameters]\n",
    "alpha = 2.0 # Simple contrast control 1.0-3.0\n",
    "beta = 50    # Simple brightness control 0-100\n",
    "## [basic-linear-transform-operation]\n",
    "for y in range(image.shape[0]):\n",
    "    for x in range(image.shape[1]):\n",
    "        for c in range(image.shape[2]):\n",
    "            new_image[y,x,c] = np.clip(alpha*image[y,x,c] + beta, 0, 255)\n",
    "## [basic-linear-transform-operation]\n",
    "\n",
    "## [basic-linear-transform-display]\n",
    "# Show stuff\n",
    "image=cv2.resize(image,(500,500))\n",
    "new_image=cv2.resize(new_image,(500,500))\n",
    "cv2.imshow('Original Image', image)\n",
    "cv2.imshow('New Image', new_image)\n",
    "\n",
    "# Wait until user press some key\n",
    "cv2.waitKey(0)\n",
    "cv2.destroyAllWindows()\n",
    "## [basic-linear-transform-display]"
   ]
  },
  {
   "cell_type": "code",
   "execution_count": null,
   "metadata": {},
   "outputs": [],
   "source": []
  }
 ],
 "metadata": {
  "kernelspec": {
   "display_name": "Python 3",
   "language": "python",
   "name": "python3"
  },
  "language_info": {
   "codemirror_mode": {
    "name": "ipython",
    "version": 3
   },
   "file_extension": ".py",
   "mimetype": "text/x-python",
   "name": "python",
   "nbconvert_exporter": "python",
   "pygments_lexer": "ipython3",
   "version": "3.7.1"
  }
 },
 "nbformat": 4,
 "nbformat_minor": 2
}
