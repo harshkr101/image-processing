{
 "cells": [
  {
   "cell_type": "code",
   "execution_count": 3,
   "metadata": {},
   "outputs": [],
   "source": [
    "import numpy as np\n",
    "import cv2\n",
    "# Load the image\n",
    "img = cv2.imread('image1.jpg')\n",
    "# Apply Gamma=2.2 on the normalised image and then multiply by scaling constant (For 8 bit, c=255)\n",
    "gamma_two_point_two = np.array(255*(img/255)**2.2,dtype='uint8')\n",
    "# Similarly, Apply Gamma=0.4 \n",
    "gamma_point_four = np.array(255*(img/255)**0.4,dtype='uint8')\n",
    "# Display the images in subplots\n",
    "img3 = cv2.hconcat([gamma_two_point_two,gamma_point_four])\n",
    "img3=cv2.resize(img3,(600,600))\n",
    "cv2.imshow('image',img3)\n",
    "cv2.waitKey(0)\n",
    "cv2.destroyAllWindows()\n"
   ]
  },
  {
   "cell_type": "code",
   "execution_count": null,
   "metadata": {},
   "outputs": [],
   "source": []
  }
 ],
 "metadata": {
  "kernelspec": {
   "display_name": "Python 3",
   "language": "python",
   "name": "python3"
  },
  "language_info": {
   "codemirror_mode": {
    "name": "ipython",
    "version": 3
   },
   "file_extension": ".py",
   "mimetype": "text/x-python",
   "name": "python",
   "nbconvert_exporter": "python",
   "pygments_lexer": "ipython3",
   "version": "3.7.1"
  }
 },
 "nbformat": 4,
 "nbformat_minor": 2
}
