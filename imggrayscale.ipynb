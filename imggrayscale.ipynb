{
 "cells": [
  {
   "cell_type": "code",
   "execution_count": 2,
   "metadata": {},
   "outputs": [
    {
     "name": "stdout",
     "output_type": "stream",
     "text": [
      "[[85 87 88 ... 26 26 26]\n",
      " [85 86 86 ... 26 26 26]\n",
      " [85 84 84 ... 26 26 26]\n",
      " ...\n",
      " [25 26 26 ... 27 28 28]\n",
      " [26 26 25 ... 27 28 28]\n",
      " [26 25 25 ... 27 28 28]]\n"
     ]
    }
   ],
   "source": [
    "import cv2\n",
    "#import numpy as np\n",
    "#import matplotlib.pyplot as plt\n",
    "img=  cv2.imread(\"image1.jpg\",cv2.IMREAD_GRAYSCALE)#GRAYSCALE=0\n",
    "print(img)\n",
    "img=cv2.resize(img,(500,500))\n",
    "cv2.imshow('image',img)\n",
    "k=cv2.waitKey(0)\n",
    "if k==27:\n",
    "  cv2.destroyAllWindows()\n",
    "elif k==ord('s'):\n",
    "  cv2.imwrite('grayscale.jpg', img)\n",
    "  cv2.destroyAllWindows()\n"
   ]
  },
  {
   "cell_type": "code",
   "execution_count": null,
   "metadata": {},
   "outputs": [],
   "source": []
  }
 ],
 "metadata": {
  "kernelspec": {
   "display_name": "Python 3",
   "language": "python",
   "name": "python3"
  },
  "language_info": {
   "codemirror_mode": {
    "name": "ipython",
    "version": 3
   },
   "file_extension": ".py",
   "mimetype": "text/x-python",
   "name": "python",
   "nbconvert_exporter": "python",
   "pygments_lexer": "ipython3",
   "version": "3.7.1"
  }
 },
 "nbformat": 4,
 "nbformat_minor": 2
}
