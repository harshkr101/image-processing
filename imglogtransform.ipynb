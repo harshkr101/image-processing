{
 "cells": [
  {
   "cell_type": "code",
   "execution_count": 1,
   "metadata": {},
   "outputs": [],
   "source": [
    "\t\n",
    "import cv2\n",
    "import numpy as np\n",
    "# Load the image\n",
    "img = cv2.imread('image1.jpg')\n",
    "# Apply log transform\n",
    "img_log = (np.log(img+1)/(np.log(1+np.max(img))))*255\n",
    "# Specify the data type\n",
    "img_log = np.array(img_log,dtype=np.uint8)\n",
    "# Display the image\n",
    "img_log=cv2.resize(img_log,(500,500))\n",
    "img=cv2.resize(img,(500,500))\n",
    "cv2.imshow('log_image',img_log )\n",
    "cv2.imshow('original_img',img)\n",
    "cv2.waitKey(0)\n",
    "cv2.destroyAllWindows()"
   ]
  },
  {
   "cell_type": "code",
   "execution_count": null,
   "metadata": {},
   "outputs": [],
   "source": []
  }
 ],
 "metadata": {
  "kernelspec": {
   "display_name": "Python 3",
   "language": "python",
   "name": "python3"
  },
  "language_info": {
   "codemirror_mode": {
    "name": "ipython",
    "version": 3
   },
   "file_extension": ".py",
   "mimetype": "text/x-python",
   "name": "python",
   "nbconvert_exporter": "python",
   "pygments_lexer": "ipython3",
   "version": "3.7.1"
  }
 },
 "nbformat": 4,
 "nbformat_minor": 2
}
