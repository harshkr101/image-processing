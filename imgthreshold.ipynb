{
 "cells": [
  {
   "cell_type": "code",
   "execution_count": 1,
   "metadata": {},
   "outputs": [],
   "source": [
    "import cv2\n",
    "import numpy as np\n",
    "\n",
    "img= cv2.imread('image1.jpg')\n",
    "\n",
    "retval, threshold= cv2.threshold(img,12,255, cv2.THRESH_BINARY )\n",
    "#grayscaled= cv2.imread('/home/ducs/Pictures/Webcam/46794427432_b9854d3bf9_b.jpg', 0)\n",
    "\n",
    "grayscaled=cv2.cvtColor(img,cv2.COLOR_BGR2GRAY)\n",
    "\n",
    "retval2, threshold2= cv2.threshold(grayscaled,12,255, cv2.THRESH_BINARY )\n",
    "gaus= cv2.adaptiveThreshold(grayscaled,255,cv2.ADAPTIVE_THRESH_GAUSSIAN_C, cv2.THRESH_BINARY,15,1 )\n",
    "\n",
    "img=cv2.resize(img,(500,500))\n",
    "threshold=cv2.resize(threshold,(500,500))\n",
    "threshold2=cv2.resize(threshold2,(500,500))\n",
    "gaus=cv2.resize(gaus,(500,500))\n",
    "cv2.imshow('original',img)\n",
    "cv2.imshow('threshold',threshold)\n",
    "cv2.imshow('threshold2',threshold2)\n",
    "cv2.imshow('gaus', gaus)\n",
    "\n",
    "cv2.waitKey(0)\n",
    "\n",
    "cv2.destroyAllWindows()\n"
   ]
  },
  {
   "cell_type": "code",
   "execution_count": null,
   "metadata": {},
   "outputs": [],
   "source": []
  }
 ],
 "metadata": {
  "kernelspec": {
   "display_name": "Python 3",
   "language": "python",
   "name": "python3"
  },
  "language_info": {
   "codemirror_mode": {
    "name": "ipython",
    "version": 3
   },
   "file_extension": ".py",
   "mimetype": "text/x-python",
   "name": "python",
   "nbconvert_exporter": "python",
   "pygments_lexer": "ipython3",
   "version": "3.7.1"
  }
 },
 "nbformat": 4,
 "nbformat_minor": 2
}
