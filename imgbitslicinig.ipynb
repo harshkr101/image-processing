{
 "cells": [
  {
   "cell_type": "code",
   "execution_count": 2,
   "metadata": {},
   "outputs": [],
   "source": [
    "import numpy as np\n",
    "import cv2\n",
    "# Read the image in greyscale\n",
    "img = cv2.imread('image1.jpg',0)\n",
    " \n",
    "#Iterate over each pixel and change pixel value to binary using np.binary_repr() and store it in a list.\n",
    "lst = []\n",
    "for i in range(img.shape[0]):\n",
    "    for j in range(img.shape[1]):\n",
    "         lst.append(np.binary_repr(img[i][j] ,width=8)) # width = no. of bits\n",
    " \n",
    "'''We have a list of strings where each string represents binary pixel value.\n",
    "To extract bit planes we need to iterate over the strings and store the characters corresponding to bit planes into lists.\n",
    "Multiply with 2^(n-1) and reshape to reconstruct the bit image.'''\n",
    "\n",
    "eight_bit_img = (np.array([int(i[0]) for i in lst],dtype = np.uint8) * 128).reshape(img.shape[0],img.shape[1])\n",
    "seven_bit_img = (np.array([int(i[1]) for i in lst],dtype = np.uint8) * 64).reshape(img.shape[0],img.shape[1])\n",
    "six_bit_img = (np.array([int(i[2]) for i in lst],dtype = np.uint8) * 32).reshape(img.shape[0],img.shape[1])\n",
    "five_bit_img = (np.array([int(i[3]) for i in lst],dtype = np.uint8) * 16).reshape(img.shape[0],img.shape[1])\n",
    "four_bit_img = (np.array([int(i[4]) for i in lst],dtype = np.uint8) * 8).reshape(img.shape[0],img.shape[1])\n",
    "three_bit_img = (np.array([int(i[5]) for i in lst],dtype = np.uint8) * 4).reshape(img.shape[0],img.shape[1])\n",
    "two_bit_img = (np.array([int(i[6]) for i in lst],dtype = np.uint8) * 2).reshape(img.shape[0],img.shape[1])\n",
    "one_bit_img = (np.array([int(i[7]) for i in lst],dtype = np.uint8) * 1).reshape(img.shape[0],img.shape[1])\n",
    " \n",
    "#Concatenate these images for ease of display using cv2.hconcat()\n",
    "finalr = cv2.hconcat([eight_bit_img,seven_bit_img,six_bit_img,five_bit_img])\n",
    "finalv =cv2.hconcat([four_bit_img,three_bit_img,two_bit_img,one_bit_img])\n",
    " \n",
    "# Vertically concatenate\n",
    "final = cv2.vconcat([finalr,finalv])\n",
    " \n",
    "# Display the images\n",
    "final=cv2.resize(final,(500,500))\n",
    "cv2.imshow('output',final)\n",
    "cv2.waitKey(0) \n",
    "cv2.destroyAllWindows()"
   ]
  },
  {
   "cell_type": "code",
   "execution_count": null,
   "metadata": {},
   "outputs": [],
   "source": []
  }
 ],
 "metadata": {
  "kernelspec": {
   "display_name": "Python 3",
   "language": "python",
   "name": "python3"
  },
  "language_info": {
   "codemirror_mode": {
    "name": "ipython",
    "version": 3
   },
   "file_extension": ".py",
   "mimetype": "text/x-python",
   "name": "python",
   "nbconvert_exporter": "python",
   "pygments_lexer": "ipython3",
   "version": "3.7.1"
  }
 },
 "nbformat": 4,
 "nbformat_minor": 2
}
